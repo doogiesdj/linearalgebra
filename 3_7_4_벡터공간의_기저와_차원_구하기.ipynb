{
  "nbformat": 4,
  "nbformat_minor": 0,
  "metadata": {
    "colab": {
      "provenance": [],
      "authorship_tag": "ABX9TyMcUZYK+WYVSA/61RP0027s",
      "include_colab_link": true
    },
    "kernelspec": {
      "name": "python3",
      "display_name": "Python 3"
    },
    "language_info": {
      "name": "python"
    }
  },
  "cells": [
    {
      "cell_type": "markdown",
      "metadata": {
        "id": "view-in-github",
        "colab_type": "text"
      },
      "source": [
        "<a href=\"https://colab.research.google.com/github/doogiesdj/linearalgebra/blob/main/3_7_4_%EB%B2%A1%ED%84%B0%EA%B3%B5%EA%B0%84%EC%9D%98_%EA%B8%B0%EC%A0%80%EC%99%80_%EC%B0%A8%EC%9B%90_%EA%B5%AC%ED%95%98%EA%B8%B0.ipynb\" target=\"_parent\"><img src=\"https://colab.research.google.com/assets/colab-badge.svg\" alt=\"Open In Colab\"/></a>"
      ]
    },
    {
      "cell_type": "code",
      "execution_count": null,
      "metadata": {
        "colab": {
          "base_uri": "https://localhost:8080/"
        },
        "id": "7eVzSCBpilpF",
        "outputId": "8a403f19-ed57-4fb8-8647-b39768b962c6"
      },
      "outputs": [
        {
          "output_type": "stream",
          "name": "stdout",
          "text": [
            "Vector Set 1: [[1, 0, 0], [0, 1, 0], [0, 0, 1]]\n",
            "Is Basis: True\n",
            "Dimension: 3\n",
            "\n",
            "Vector Set 2: [[1, 2, 3], [4, 5, 6], [7, 8, 9]]\n",
            "Is Basis: False\n",
            "Dimension: 2\n",
            "\n",
            "Vector Set 3: [[1, 1, 0], [0, 1, 1], [1, 0, 1]]\n",
            "Is Basis: True\n",
            "Dimension: 3\n",
            "\n",
            "Vector Set 4: [[1, 2], [3, 4], [5, 6]]\n",
            "Is Basis: False\n",
            "Dimension: 2\n",
            "\n",
            "Vector Set 5: [[1, 2, 3], [4, 5, 6]]\n",
            "Is Basis: True\n",
            "Dimension: 2\n",
            "\n"
          ]
        }
      ],
      "source": [
        "import numpy as np\n",
        "from numpy.linalg import matrix_rank\n",
        "\n",
        "def is_basis(vectors):\n",
        "    \"\"\"\n",
        "    주어진 벡터들이 기저인지 확인하는 함수\n",
        "    :param vectors: 벡터들의 리스트 (2차원 리스트 또는 2차원 numpy 배열)\n",
        "    :return: 기저 여부 (bool)\n",
        "    \"\"\"\n",
        "    rank = matrix_rank(vectors)\n",
        "    return rank == len(vectors)\n",
        "\n",
        "def dimension(vectors):\n",
        "    \"\"\"\n",
        "    주어진 벡터공간의 차원을 구하는 함수\n",
        "    :param vectors: 벡터들의 리스트 (2차원 리스트 또는 2차원 numpy 배열)\n",
        "    :return: 차원 (정수)\n",
        "    \"\"\"\n",
        "    return matrix_rank(vectors)\n",
        "\n",
        "# 실습 문제: 다음 벡터 집합의 기저와 차원을 구하시오.\n",
        "vector_sets = [\n",
        "    [[1, 0, 0], [0, 1, 0], [0, 0, 1]],     # R^3의 표준 기저\n",
        "    [[1, 2, 3], [4, 5, 6], [7, 8, 9]],     # 선형 종속 집합\n",
        "    [[1, 1, 0], [0, 1, 1], [1, 0, 1]],     # 선형 독립 집합\n",
        "    [[1, 2], [3, 4], [5, 6]],              # R^2의 부분 공간\n",
        "    [[1, 2, 3], [4, 5, 6]],                # R^3의 부분 공간\n",
        "]\n",
        "\n",
        "# 각 벡터 집합의 기저 여부와 차원을 계산하고 출력\n",
        "for i, vectors in enumerate(vector_sets):\n",
        "    basis = is_basis(vectors)\n",
        "    dim = dimension(vectors)\n",
        "    print(f\"Vector Set {i+1}: {vectors}\")\n",
        "    print(f\"Is Basis: {basis}\")\n",
        "    print(f\"Dimension: {dim}\\n\")\n"
      ]
    }
  ]
}