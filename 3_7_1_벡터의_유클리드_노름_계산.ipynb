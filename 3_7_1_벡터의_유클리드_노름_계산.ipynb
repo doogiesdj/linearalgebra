{
  "nbformat": 4,
  "nbformat_minor": 0,
  "metadata": {
    "colab": {
      "provenance": [],
      "authorship_tag": "ABX9TyP+7avxZEMzhSSKusCzLdOS",
      "include_colab_link": true
    },
    "kernelspec": {
      "name": "python3",
      "display_name": "Python 3"
    },
    "language_info": {
      "name": "python"
    }
  },
  "cells": [
    {
      "cell_type": "markdown",
      "metadata": {
        "id": "view-in-github",
        "colab_type": "text"
      },
      "source": [
        "<a href=\"https://colab.research.google.com/github/doogiesdj/linearalgebra/blob/main/3_7_1_%EB%B2%A1%ED%84%B0%EC%9D%98_%EC%9C%A0%ED%81%B4%EB%A6%AC%EB%93%9C_%EB%85%B8%EB%A6%84_%EA%B3%84%EC%82%B0.ipynb\" target=\"_parent\"><img src=\"https://colab.research.google.com/assets/colab-badge.svg\" alt=\"Open In Colab\"/></a>"
      ]
    },
    {
      "cell_type": "code",
      "execution_count": null,
      "metadata": {
        "colab": {
          "base_uri": "https://localhost:8080/"
        },
        "id": "YZ4qmkp6fEk2",
        "outputId": "e0e440bf-d8c3-49fd-dd2e-bdba99efd179"
      },
      "outputs": [
        {
          "output_type": "stream",
          "name": "stdout",
          "text": [
            "Vector 1: [1, 2, 3], Euclidean Norm: 3.7416573867739413\n",
            "Vector 2: [-1, -2, -2], Euclidean Norm: 3.0\n",
            "Vector 3: [0, 0, 0], Euclidean Norm: 0.0\n",
            "Vector 4: [3, 4], Euclidean Norm: 5.0\n",
            "Vector 5: [5, 12], Euclidean Norm: 13.0\n"
          ]
        }
      ],
      "source": [
        "import numpy as np\n",
        "\n",
        "def euclidean_norm(vector):\n",
        "    \"\"\"\n",
        "    주어진 벡터의 유클리드 노름을 계산하는 함수\n",
        "    :param vector: 벡터 (리스트 또는 1차원 numpy 배열)\n",
        "    :return: 유클리드 노름 (실수)\n",
        "    \"\"\"\n",
        "    norm = np.sqrt(np.sum(np.square(vector)))\n",
        "    return norm\n",
        "\n",
        "# 실습 문제: 다음 벡터들의 유클리드 노름을 계산하시오.\n",
        "vectors = [\n",
        "    [1, 2, 3],\n",
        "    [-1, -2, -2],\n",
        "    [0, 0, 0],\n",
        "    [3, 4],\n",
        "    [5, 12]\n",
        "]\n",
        "\n",
        "# 각 벡터의 유클리드 노름을 계산하고 출력\n",
        "for i, vec in enumerate(vectors):\n",
        "    norm = euclidean_norm(vec)\n",
        "    print(f\"Vector {i+1}: {vec}, Euclidean Norm: {norm}\")\n"
      ]
    }
  ]
}