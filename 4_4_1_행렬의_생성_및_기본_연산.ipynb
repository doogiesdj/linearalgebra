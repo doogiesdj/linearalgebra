{
  "nbformat": 4,
  "nbformat_minor": 0,
  "metadata": {
    "colab": {
      "provenance": [],
      "authorship_tag": "ABX9TyMjRfChEJwzMPUkulSRKMh4",
      "include_colab_link": true
    },
    "kernelspec": {
      "name": "python3",
      "display_name": "Python 3"
    },
    "language_info": {
      "name": "python"
    }
  },
  "cells": [
    {
      "cell_type": "markdown",
      "metadata": {
        "id": "view-in-github",
        "colab_type": "text"
      },
      "source": [
        "<a href=\"https://colab.research.google.com/github/doogiesdj/linearalgebra/blob/main/4_4_1_%ED%96%89%EB%A0%AC%EC%9D%98_%EC%83%9D%EC%84%B1_%EB%B0%8F_%EA%B8%B0%EB%B3%B8_%EC%97%B0%EC%82%B0.ipynb\" target=\"_parent\"><img src=\"https://colab.research.google.com/assets/colab-badge.svg\" alt=\"Open In Colab\"/></a>"
      ]
    },
    {
      "cell_type": "code",
      "execution_count": null,
      "metadata": {
        "colab": {
          "base_uri": "https://localhost:8080/"
        },
        "id": "hMZrjkQblFVH",
        "outputId": "d3ce7934-0fac-45da-bd2f-35164933162f"
      },
      "outputs": [
        {
          "output_type": "stream",
          "name": "stdout",
          "text": [
            "행렬 A:\n",
            "[[1 2]\n",
            " [3 4]]\n",
            "\n",
            "행렬 B:\n",
            "[[5 6]\n",
            " [7 8]]\n",
            "\n",
            "A + B:\n",
            "[[ 6  8]\n",
            " [10 12]]\n",
            "\n",
            "3 * A:\n",
            "[[ 3  6]\n",
            " [ 9 12]]\n"
          ]
        }
      ],
      "source": [
        "import numpy as np\n",
        "\n",
        "# 행렬 A와 B 생성\n",
        "A = np.array([[1, 2], [3, 4]])\n",
        "B = np.array([[5, 6], [7, 8]])\n",
        "\n",
        "print(\"행렬 A:\")\n",
        "print(A)\n",
        "print(\"\\n행렬 B:\")\n",
        "print(B)\n",
        "\n",
        "# 행렬 덧셈\n",
        "C = A + B\n",
        "print(\"\\nA + B:\")\n",
        "print(C)\n",
        "\n",
        "# 행렬 스칼라 곱\n",
        "scalar = 3\n",
        "D = scalar * A\n",
        "print(f\"\\n{scalar} * A:\")\n",
        "print(D)\n"
      ]
    }
  ]
}