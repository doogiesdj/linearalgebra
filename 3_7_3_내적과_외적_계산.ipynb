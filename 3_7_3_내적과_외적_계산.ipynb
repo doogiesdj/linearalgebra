{
  "nbformat": 4,
  "nbformat_minor": 0,
  "metadata": {
    "colab": {
      "provenance": [],
      "authorship_tag": "ABX9TyOoMSLs/apHi4VBxOTz1X+6",
      "include_colab_link": true
    },
    "kernelspec": {
      "name": "python3",
      "display_name": "Python 3"
    },
    "language_info": {
      "name": "python"
    }
  },
  "cells": [
    {
      "cell_type": "markdown",
      "metadata": {
        "id": "view-in-github",
        "colab_type": "text"
      },
      "source": [
        "<a href=\"https://colab.research.google.com/github/doogiesdj/linearalgebra/blob/main/3_7_3_%EB%82%B4%EC%A0%81%EA%B3%BC_%EC%99%B8%EC%A0%81_%EA%B3%84%EC%82%B0.ipynb\" target=\"_parent\"><img src=\"https://colab.research.google.com/assets/colab-badge.svg\" alt=\"Open In Colab\"/></a>"
      ]
    },
    {
      "cell_type": "code",
      "execution_count": 1,
      "metadata": {
        "id": "7vXhphyIiQ6-",
        "outputId": "72d23f04-17ad-4c59-b075-035673c0de81",
        "colab": {
          "base_uri": "https://localhost:8080/"
        }
      },
      "outputs": [
        {
          "output_type": "stream",
          "name": "stdout",
          "text": [
            "2D Vectors - Dot Product:\n",
            "Vector Pair 1: [1, 2] · [3, 4] = 11\n",
            "Vector Pair 2: [-1, -2] · [2, 3] = -8\n",
            "Vector Pair 3: [0, 0] · [1, 1] = 0\n",
            "Vector Pair 4: [3, 4] · [4, 5] = 32\n",
            "Vector Pair 5: [5, 12] · [1, 0] = 5\n",
            "\n",
            "3D Vectors - Cross Product:\n",
            "Vector Pair 1: [1, 2, 3] × [4, 5, 6] = [-3  6 -3]\n",
            "Vector Pair 2: [-1, -2, -3] × [1, 2, 3] = [0 0 0]\n",
            "Vector Pair 3: [0, 0, 0] × [1, 1, 1] = [0 0 0]\n",
            "Vector Pair 4: [3, 4, 5] × [6, 7, 8] = [-3  6 -3]\n",
            "Vector Pair 5: [5, 12, 13] × [1, 0, 1] = [ 12   8 -12]\n"
          ]
        }
      ],
      "source": [
        "import numpy as np\n",
        "\n",
        "def dot_product(vector1, vector2):\n",
        "    \"\"\"\n",
        "    주어진 두 벡터의 내적을 계산하는 함수\n",
        "    :param vector1: 첫 번째 벡터 (리스트 또는 1차원 numpy 배열)\n",
        "    :param vector2: 두 번째 벡터 (리스트 또는 1차원 numpy 배열)\n",
        "    :return: 벡터 내적 결과 (실수)\n",
        "    \"\"\"\n",
        "    return np.dot(vector1, vector2)\n",
        "\n",
        "def cross_product(vector1, vector2):\n",
        "    \"\"\"\n",
        "    주어진 두 벡터의 외적을 계산하는 함수 (3차원 벡터만 가능)\n",
        "    :param vector1: 첫 번째 벡터 (리스트 또는 1차원 numpy 배열)\n",
        "    :param vector2: 두 번째 벡터 (리스트 또는 1차원 numpy 배열)\n",
        "    :return: 벡터 외적 결과 (리스트)\n",
        "    \"\"\"\n",
        "    return np.cross(vector1, vector2)\n",
        "\n",
        "# 실습 문제: 다음 벡터들의 내적과 외적을 계산하시오.\n",
        "vector_pairs_2d = [\n",
        "    ([1, 2], [3, 4]),\n",
        "    ([-1, -2], [2, 3]),\n",
        "    ([0, 0], [1, 1]),\n",
        "    ([3, 4], [4, 5]),\n",
        "    ([5, 12], [1, 0])\n",
        "]\n",
        "\n",
        "vector_pairs_3d = [\n",
        "    ([1, 2, 3], [4, 5, 6]),\n",
        "    ([-1, -2, -3], [1, 2, 3]),\n",
        "    ([0, 0, 0], [1, 1, 1]),\n",
        "    ([3, 4, 5], [6, 7, 8]),\n",
        "    ([5, 12, 13], [1, 0, 1])\n",
        "]\n",
        "\n",
        "# 각 벡터의 내적을 계산하고 출력\n",
        "print(\"2D Vectors - Dot Product:\")\n",
        "for i, (vec1, vec2) in enumerate(vector_pairs_2d):\n",
        "    dot_result = dot_product(vec1, vec2)\n",
        "    print(f\"Vector Pair {i+1}: {vec1} · {vec2} = {dot_result}\")\n",
        "\n",
        "# 각 3차원 벡터의 외적을 계산하고 출력\n",
        "print(\"\\n3D Vectors - Cross Product:\")\n",
        "for i, (vec1, vec2) in enumerate(vector_pairs_3d):\n",
        "    cross_result = cross_product(vec1, vec2)\n",
        "    print(f\"Vector Pair {i+1}: {vec1} × {vec2} = {cross_result}\")"
      ]
    }
  ]
}