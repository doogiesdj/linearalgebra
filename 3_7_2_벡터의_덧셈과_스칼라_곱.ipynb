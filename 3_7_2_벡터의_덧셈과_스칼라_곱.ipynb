{
  "nbformat": 4,
  "nbformat_minor": 0,
  "metadata": {
    "colab": {
      "provenance": [],
      "authorship_tag": "ABX9TyMQYBWWum+9Mdd86WFvq4/o",
      "include_colab_link": true
    },
    "kernelspec": {
      "name": "python3",
      "display_name": "Python 3"
    },
    "language_info": {
      "name": "python"
    }
  },
  "cells": [
    {
      "cell_type": "markdown",
      "metadata": {
        "id": "view-in-github",
        "colab_type": "text"
      },
      "source": [
        "<a href=\"https://colab.research.google.com/github/doogiesdj/linearalgebra/blob/main/3_7_2_%EB%B2%A1%ED%84%B0%EC%9D%98_%EB%8D%A7%EC%85%88%EA%B3%BC_%EC%8A%A4%EC%B9%BC%EB%9D%BC_%EA%B3%B1.ipynb\" target=\"_parent\"><img src=\"https://colab.research.google.com/assets/colab-badge.svg\" alt=\"Open In Colab\"/></a>"
      ]
    },
    {
      "cell_type": "code",
      "execution_count": 1,
      "metadata": {
        "colab": {
          "base_uri": "https://localhost:8080/"
        },
        "id": "FHPrugGVg76x",
        "outputId": "68e56e13-d541-4ddd-e301-832aab59a747"
      },
      "outputs": [
        {
          "output_type": "stream",
          "name": "stdout",
          "text": [
            "Vector Pair 1: [1, 2, 3] + [4, 5, 6] = [5 7 9]\n",
            "Scalar Multiplication 1: 2 * [1, 2, 3] = [2 4 6]\n",
            "\n",
            "Vector Pair 2: [-1, -2, -3] + [1, 2, 3] = [0 0 0]\n",
            "Scalar Multiplication 2: -1 * [-1, -2, -3] = [1 2 3]\n",
            "\n",
            "Vector Pair 3: [0, 0, 0] + [1, 1, 1] = [1 1 1]\n",
            "Scalar Multiplication 3: 0.5 * [0, 0, 0] = [0. 0. 0.]\n",
            "\n",
            "Vector Pair 4: [3, 4] + [1, 2] = [4 6]\n",
            "Scalar Multiplication 4: 3 * [3, 4] = [ 9 12]\n",
            "\n",
            "Vector Pair 5: [5, 12] + [0, 1] = [ 5 13]\n",
            "Scalar Multiplication 5: 10 * [5, 12] = [ 50 120]\n",
            "\n"
          ]
        }
      ],
      "source": [
        "import numpy as np\n",
        "\n",
        "def vector_addition(vector1, vector2):\n",
        "    \"\"\"\n",
        "    주어진 두 벡터의 덧셈을 계산하는 함수\n",
        "    :param vector1: 첫 번째 벡터 (리스트 또는 1차원 numpy 배열)\n",
        "    :param vector2: 두 번째 벡터 (리스트 또는 1차원 numpy 배열)\n",
        "    :return: 벡터 덧셈 결과 (리스트)\n",
        "    \"\"\"\n",
        "    return np.add(vector1, vector2)\n",
        "\n",
        "def scalar_multiplication(scalar, vector):\n",
        "    \"\"\"\n",
        "    주어진 벡터에 대한 스칼라 곱을 계산하는 함수\n",
        "    :param scalar: 스칼라 값 (실수)\n",
        "    :param vector: 벡터 (리스트 또는 1차원 numpy 배열)\n",
        "    :return: 스칼라 곱 결과 (리스트)\n",
        "    \"\"\"\n",
        "    return np.multiply(scalar, vector)\n",
        "\n",
        "# 실습 문제: 다음 벡터들의 덧셈과 스칼라 곱을 계산하시오.\n",
        "vector_pairs = [\n",
        "    ([1, 2, 3], [4, 5, 6]),\n",
        "    ([-1, -2, -3], [1, 2, 3]),\n",
        "    ([0, 0, 0], [1, 1, 1]),\n",
        "    ([3, 4], [1, 2]),\n",
        "    ([5, 12], [0, 1])\n",
        "]\n",
        "\n",
        "scalars = [2, -1, 0.5, 3, 10]\n",
        "\n",
        "# 각 벡터의 덧셈과 스칼라 곱을 계산하고 출력\n",
        "for i, (vec1, vec2) in enumerate(vector_pairs):\n",
        "    addition_result = vector_addition(vec1, vec2)\n",
        "    scalar_result = scalar_multiplication(scalars[i], vec1)\n",
        "    print(f\"Vector Pair {i+1}: {vec1} + {vec2} = {addition_result}\")\n",
        "    print(f\"Scalar Multiplication {i+1}: {scalars[i]} * {vec1} = {scalar_result}\\n\")\n"
      ]
    }
  ]
}