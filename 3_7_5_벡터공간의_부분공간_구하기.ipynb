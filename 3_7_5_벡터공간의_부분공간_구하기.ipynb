{
  "nbformat": 4,
  "nbformat_minor": 0,
  "metadata": {
    "colab": {
      "provenance": [],
      "authorship_tag": "ABX9TyMYFS4ZM6f09lNkl8nt+UE0",
      "include_colab_link": true
    },
    "kernelspec": {
      "name": "python3",
      "display_name": "Python 3"
    },
    "language_info": {
      "name": "python"
    }
  },
  "cells": [
    {
      "cell_type": "markdown",
      "metadata": {
        "id": "view-in-github",
        "colab_type": "text"
      },
      "source": [
        "<a href=\"https://colab.research.google.com/github/doogiesdj/linearalgebra/blob/main/3_7_5_%EB%B2%A1%ED%84%B0%EA%B3%B5%EA%B0%84%EC%9D%98_%EB%B6%80%EB%B6%84%EA%B3%B5%EA%B0%84_%EA%B5%AC%ED%95%98%EA%B8%B0.ipynb\" target=\"_parent\"><img src=\"https://colab.research.google.com/assets/colab-badge.svg\" alt=\"Open In Colab\"/></a>"
      ]
    },
    {
      "cell_type": "code",
      "execution_count": 1,
      "metadata": {
        "id": "qa9szw3ykG9j",
        "outputId": "87b72a52-48fb-48b4-ad55-c511117568ee",
        "colab": {
          "base_uri": "https://localhost:8080/"
        }
      },
      "outputs": [
        {
          "output_type": "stream",
          "name": "stdout",
          "text": [
            "Vector Set 1: [[1, 0, 0], [0, 1, 0]]\n",
            "Subspace basis:\n",
            "[[0. 0. 1.]]\n",
            "\n",
            "Vector Set 2: [[1, 1, 1], [1, 0, 1], [0, 1, 1]]\n",
            "Subspace basis:\n",
            "[]\n",
            "\n",
            "Vector Set 3: [[2, 4, 6], [1, 2, 3]]\n",
            "Subspace basis:\n",
            "[[ 0.94491118 -0.30854944 -0.10927077]\n",
            " [-0.18898224 -0.78681825  0.58753958]]\n",
            "\n",
            "Vector Set 4: [[1, 2], [3, 4]]\n",
            "Subspace basis:\n",
            "[]\n",
            "\n",
            "Vector Set 5: [[1, 2, 3], [4, 5, 6]]\n",
            "Subspace basis:\n",
            "[[ 0.40824829 -0.81649658  0.40824829]]\n",
            "\n"
          ]
        }
      ],
      "source": [
        "import numpy as np\n",
        "from scipy.linalg import null_space\n",
        "\n",
        "def find_subspace(vectors):\n",
        "    \"\"\"\n",
        "    주어진 벡터 집합으로 생성되는 부분 공간을 구하는 함수\n",
        "    :param vectors: 벡터들의 리스트 (2차원 리스트 또는 2차원 numpy 배열)\n",
        "    :return: 부분 공간을 생성하는 벡터들 (2차원 numpy 배열)\n",
        "    \"\"\"\n",
        "    # 주어진 벡터들로 이루어진 행렬\n",
        "    A = np.array(vectors)\n",
        "\n",
        "    # 행렬의 랭크를 구함\n",
        "    rank = np.linalg.matrix_rank(A)\n",
        "\n",
        "    # 부분 공간의 기저를 구함 (기저 벡터들은 A의 null space의 기저와 동일)\n",
        "    subspace_basis = null_space(A)\n",
        "\n",
        "    return subspace_basis.T\n",
        "\n",
        "# 실습 문제: 다음 벡터 집합의 부분 공간을 구하시오.\n",
        "vector_sets = [\n",
        "    [[1, 0, 0], [0, 1, 0]],               # R^3에서 평면을 생성하는 두 벡터\n",
        "    [[1, 1, 1], [1, 0, 1], [0, 1, 1]],     # R^3의 기저 벡터들\n",
        "    [[2, 4, 6], [1, 2, 3]],                # 선형 종속 벡터들\n",
        "    [[1, 2], [3, 4]],                      # R^2의 기저 벡터들\n",
        "    [[1, 2, 3], [4, 5, 6]],                # R^3의 부분 공간을 생성하는 두 벡터\n",
        "]\n",
        "\n",
        "# 각 벡터 집합으로 생성되는 부분 공간을 계산하고 출력\n",
        "for i, vectors in enumerate(vector_sets):\n",
        "    subspace = find_subspace(vectors)\n",
        "    print(f\"Vector Set {i+1}: {vectors}\")\n",
        "    print(f\"Subspace basis:\\n{subspace}\\n\")"
      ]
    }
  ]
}